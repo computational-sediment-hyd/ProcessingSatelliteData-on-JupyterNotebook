{
 "cells": [
  {
   "cell_type": "markdown",
   "metadata": {},
   "source": [
    "# Reference\n",
    "\n",
    " - http://pen.envr.tsukuba.ac.jp/~torarimon/?GDAL_python\n",
    " - https://gis-oer.github.io/gitbook/book/materials/python/07/07.html"
   ]
  },
  {
   "cell_type": "markdown",
   "metadata": {},
   "source": [
    "# Setting path"
   ]
  },
  {
   "cell_type": "code",
   "execution_count": 1,
   "metadata": {},
   "outputs": [],
   "source": [
    "# original file \n",
    "orgdir = 'orgdata/ALAV2A200132900-OORIRFU-D071P3-20091027-001/'"
   ]
  },
  {
   "cell_type": "markdown",
   "metadata": {},
   "source": [
    "# Clip"
   ]
  },
  {
   "cell_type": "code",
   "execution_count": 2,
   "metadata": {},
   "outputs": [
    {
     "data": {
      "text/plain": [
       "['orgdata/ALAV2A200132900-OORIRFU-D071P3-20091027-001\\\\IMG-01-ALAV2A200132900-OORIRFU-D071P3-20091027-001.tif',\n",
       " 'orgdata/ALAV2A200132900-OORIRFU-D071P3-20091027-001\\\\IMG-02-ALAV2A200132900-OORIRFU-D071P3-20091027-001.tif',\n",
       " 'orgdata/ALAV2A200132900-OORIRFU-D071P3-20091027-001\\\\IMG-03-ALAV2A200132900-OORIRFU-D071P3-20091027-001.tif',\n",
       " 'orgdata/ALAV2A200132900-OORIRFU-D071P3-20091027-001\\\\IMG-04-ALAV2A200132900-OORIRFU-D071P3-20091027-001.tif']"
      ]
     },
     "execution_count": 2,
     "metadata": {},
     "output_type": "execute_result"
    }
   ],
   "source": [
    "import glob\n",
    "fs = glob.glob(orgdir + 'IMG*')\n",
    "fs"
   ]
  },
  {
   "cell_type": "code",
   "execution_count": 3,
   "metadata": {},
   "outputs": [],
   "source": [
    "from osgeo import gdal\n",
    "import os\n",
    "\n",
    "clip = 'clip.geojson'\n",
    "for f in fs:\n",
    "    fout = os.path.dirname(f) + '/clip-' + os.path.basename(f)\n",
    "    d = gdal.Warp(fout, f, dstSRS=\"EPSG:6676\", xRes=10.0, yRes=10.0, cutlineDSName=clip, cropToCutline=True, dstNodata=\"0\")\n",
    "    d = None"
   ]
  },
  {
   "cell_type": "markdown",
   "metadata": {},
   "source": [
    "# Overlay"
   ]
  },
  {
   "cell_type": "code",
   "execution_count": 4,
   "metadata": {},
   "outputs": [
    {
     "data": {
      "text/plain": [
       "['orgdata/ALAV2A200132900-OORIRFU-D071P3-20091027-001\\\\clip-IMG-01-ALAV2A200132900-OORIRFU-D071P3-20091027-001.tif',\n",
       " 'orgdata/ALAV2A200132900-OORIRFU-D071P3-20091027-001\\\\clip-IMG-02-ALAV2A200132900-OORIRFU-D071P3-20091027-001.tif',\n",
       " 'orgdata/ALAV2A200132900-OORIRFU-D071P3-20091027-001\\\\clip-IMG-03-ALAV2A200132900-OORIRFU-D071P3-20091027-001.tif',\n",
       " 'orgdata/ALAV2A200132900-OORIRFU-D071P3-20091027-001\\\\clip-IMG-04-ALAV2A200132900-OORIRFU-D071P3-20091027-001.tif']"
      ]
     },
     "execution_count": 4,
     "metadata": {},
     "output_type": "execute_result"
    }
   ],
   "source": [
    "import glob\n",
    "fs = glob.glob(orgdir + 'clip*')\n",
    "fs.sort()\n",
    "fs"
   ]
  },
  {
   "cell_type": "code",
   "execution_count": 5,
   "metadata": {},
   "outputs": [],
   "source": [
    "# make new file from original file profile\n",
    "ds = gdal.Open(fs[0], gdal.GA_ReadOnly)\n",
    "arr = ds.GetRasterBand(1).ReadAsArray()\n",
    "h, w = arr.shape\n",
    "dst_ds = gdal.GetDriverByName('GTiff').Create(\"tenryurivmouth.tif\", w, h, 4, gdal.GDT_Byte)\n",
    "d = dst_ds.SetGeoTransform(ds.GetGeoTransform())\n",
    "d = dst_ds.SetProjection(ds.GetProjection())\n",
    "\n",
    "# overlay band data\n",
    "for i, f in enumerate(fs):\n",
    "    ds = gdal.Open(f, gdal.GA_ReadOnly)\n",
    "    x = ds.ReadAsArray()\n",
    "    d = dst_ds.GetRasterBand(i+1).WriteArray(x)\n",
    "\n",
    "# post\n",
    "ds.FlushCache()    \n",
    "dst_ds = None"
   ]
  }
 ],
 "metadata": {
  "kernelspec": {
   "display_name": "Python 3",
   "language": "python",
   "name": "python3"
  },
  "language_info": {
   "codemirror_mode": {
    "name": "ipython",
    "version": 3
   },
   "file_extension": ".py",
   "mimetype": "text/x-python",
   "name": "python",
   "nbconvert_exporter": "python",
   "pygments_lexer": "ipython3",
   "version": "3.7.7"
  },
  "toc": {
   "base_numbering": 1,
   "nav_menu": {},
   "number_sections": true,
   "sideBar": true,
   "skip_h1_title": false,
   "title_cell": "Table of Contents",
   "title_sidebar": "Contents",
   "toc_cell": false,
   "toc_position": {},
   "toc_section_display": true,
   "toc_window_display": false
  }
 },
 "nbformat": 4,
 "nbformat_minor": 4
}
